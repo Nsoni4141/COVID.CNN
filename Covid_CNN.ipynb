{
  "nbformat": 4,
  "nbformat_minor": 0,
  "metadata": {
    "colab": {
      "provenance": []
    },
    "kernelspec": {
      "name": "python3",
      "display_name": "Python 3"
    },
    "language_info": {
      "name": "python"
    },
    "gpuClass": "standard"
  },
  "cells": [
    {
      "cell_type": "code",
      "execution_count": null,
      "metadata": {
        "id": "WRInHCZ0Yhhb"
      },
      "outputs": [],
      "source": [
        "from keras.layers import Convolution2D,MaxPooling2D,Flatten,Dense\n",
        "from keras.models import Sequential\n",
        "from keras.preprocessing.image import ImageDataGenerator"
      ]
    },
    {
      "cell_type": "markdown",
      "source": [
        "Creating train and test datagen to increase number of pictures by various function\n"
      ],
      "metadata": {
        "id": "dN_eHjZGIHPL"
      }
    },
    {
      "cell_type": "code",
      "source": [
        "train_datagen = ImageDataGenerator(\n",
        "                rescale=1./255,\n",
        "                shear_range = 0.2,\n",
        "                rotation_range=20,\n",
        "                horizontal_flip=True,\n",
        "                fill_mode = 'nearest',\n",
        "                zoom_range=0.2,\n",
        "                width_shift_range=0.2,\n",
        "                height_shift_range=0.2\n",
        "\n",
        ")\n",
        "\n",
        "test_datagen = ImageDataGenerator(rescale = 1./255)"
      ],
      "metadata": {
        "id": "r0qlyP7UY1Dr"
      },
      "execution_count": null,
      "outputs": []
    },
    {
      "cell_type": "markdown",
      "source": [
        "Creating train set with 64*64 pixcel \n"
      ],
      "metadata": {
        "id": "3yHt0KAZIZom"
      }
    },
    {
      "cell_type": "code",
      "source": [
        "train_set = train_datagen.flow_from_directory(r'/content/drive/MyDrive/Corona_CNN_Project/train',\n",
        "                                              target_size=(64,64),\n",
        "                                              batch_size=1,\n",
        "                                              class_mode='binary')\n"
      ],
      "metadata": {
        "id": "8wV7sSaqZBIw",
        "colab": {
          "base_uri": "https://localhost:8080/"
        },
        "outputId": "a36163d3-ce56-41a7-8e82-1d4bd5f725f4"
      },
      "execution_count": null,
      "outputs": [
        {
          "output_type": "stream",
          "name": "stdout",
          "text": [
            "Found 392 images belonging to 2 classes.\n"
          ]
        }
      ]
    },
    {
      "cell_type": "code",
      "source": [
        "test_set = test_datagen.flow_from_directory(r'/content/drive/MyDrive/Corona_CNN_Project/test',\n",
        "                        target_size=(64,64),\n",
        "                        batch_size=1,\n",
        "                        class_mode='binary')"
      ],
      "metadata": {
        "id": "xgMGw2dCM6MT",
        "colab": {
          "base_uri": "https://localhost:8080/"
        },
        "outputId": "aa1cd904-ec2a-41db-871e-4125b2bb7719"
      },
      "execution_count": null,
      "outputs": [
        {
          "output_type": "stream",
          "name": "stdout",
          "text": [
            "Found 392 images belonging to 2 classes.\n"
          ]
        }
      ]
    },
    {
      "cell_type": "code",
      "source": [
        "ann = Sequential()"
      ],
      "metadata": {
        "id": "1eCx03SCZJWQ"
      },
      "execution_count": null,
      "outputs": []
    },
    {
      "cell_type": "markdown",
      "source": [
        "Creating Convolution  "
      ],
      "metadata": {
        "id": "KezqWf8XIokP"
      }
    },
    {
      "cell_type": "code",
      "source": [
        "ann.add(Convolution2D(32,3,3, padding='same',input_shape=(64,64,3),activation='relu',kernel_initializer='he_uniform'))\n"
      ],
      "metadata": {
        "id": "aogn8u4Mf3kG"
      },
      "execution_count": null,
      "outputs": []
    },
    {
      "cell_type": "markdown",
      "source": [
        "Pooling\n"
      ],
      "metadata": {
        "id": "4y3ws9x3IwzP"
      }
    },
    {
      "cell_type": "code",
      "source": [
        "ann.add(MaxPooling2D(pool_size=(2,2)))"
      ],
      "metadata": {
        "id": "oIILTutKgOKm"
      },
      "execution_count": null,
      "outputs": []
    },
    {
      "cell_type": "code",
      "source": [
        "ann.add(Flatten())"
      ],
      "metadata": {
        "id": "p-FwYF03rTa_"
      },
      "execution_count": null,
      "outputs": []
    },
    {
      "cell_type": "markdown",
      "source": [
        "Adding First Dense Layers with weight and output Units"
      ],
      "metadata": {
        "id": "3O_0TvViI0Et"
      }
    },
    {
      "cell_type": "code",
      "source": [
        "ann.add(Dense(units=128,activation='relu',kernel_initializer='he_uniform'))"
      ],
      "metadata": {
        "id": "gGvvH22yzQ8r"
      },
      "execution_count": null,
      "outputs": []
    },
    {
      "cell_type": "markdown",
      "source": [
        "Second dense layer"
      ],
      "metadata": {
        "id": "G_gaySceJDY0"
      }
    },
    {
      "cell_type": "code",
      "source": [
        "ann.add(Dense(units=1,activation='sigmoid',kernel_initializer='glorot_uniform'))"
      ],
      "metadata": {
        "id": "Py17Ah7jz8S5"
      },
      "execution_count": null,
      "outputs": []
    },
    {
      "cell_type": "markdown",
      "source": [
        "compiling with adam as optimizer "
      ],
      "metadata": {
        "id": "tGmE1o4zJGzW"
      }
    },
    {
      "cell_type": "code",
      "source": [
        "ann.compile(optimizer='adam',loss='binary_crossentropy',metrics=['accuracy'])\n"
      ],
      "metadata": {
        "id": "YVQREUVSnUoD"
      },
      "execution_count": null,
      "outputs": []
    },
    {
      "cell_type": "markdown",
      "source": [
        "fittting our train set with the model "
      ],
      "metadata": {
        "id": "rjVd-9y3JPEk"
      }
    },
    {
      "cell_type": "code",
      "source": [
        "ann.fit_generator(train_set,\n",
        "                  steps_per_epoch=392,\n",
        "                  epochs=10,\n",
        "                  validation_data=test_set,\n",
        "                  validation_steps=392)"
      ],
      "metadata": {
        "id": "JnKr6Mxkn_iv",
        "colab": {
          "base_uri": "https://localhost:8080/"
        },
        "outputId": "a19495fb-b588-412d-8a1e-ee1c78f8c0d5"
      },
      "execution_count": null,
      "outputs": [
        {
          "output_type": "stream",
          "name": "stdout",
          "text": [
            "Epoch 1/10\n"
          ]
        },
        {
          "output_type": "stream",
          "name": "stderr",
          "text": [
            "<ipython-input-43-9f7b961dfec8>:1: UserWarning: `Model.fit_generator` is deprecated and will be removed in a future version. Please use `Model.fit`, which supports generators.\n",
            "  ann.fit_generator(train_set,\n"
          ]
        },
        {
          "output_type": "stream",
          "name": "stdout",
          "text": [
            "392/392 [==============================] - 24s 59ms/step - loss: 0.4823 - accuracy: 0.7832 - val_loss: 0.2434 - val_accuracy: 0.8954\n",
            "Epoch 2/10\n",
            "392/392 [==============================] - 23s 58ms/step - loss: 0.2650 - accuracy: 0.8929 - val_loss: 0.2451 - val_accuracy: 0.8980\n",
            "Epoch 3/10\n",
            "392/392 [==============================] - 22s 56ms/step - loss: 0.2664 - accuracy: 0.8827 - val_loss: 0.2362 - val_accuracy: 0.8980\n",
            "Epoch 4/10\n",
            "392/392 [==============================] - 26s 66ms/step - loss: 0.1905 - accuracy: 0.9286 - val_loss: 0.2969 - val_accuracy: 0.8878\n",
            "Epoch 5/10\n",
            "392/392 [==============================] - 23s 59ms/step - loss: 0.1920 - accuracy: 0.9413 - val_loss: 0.2454 - val_accuracy: 0.8954\n",
            "Epoch 6/10\n",
            "392/392 [==============================] - 22s 56ms/step - loss: 0.1726 - accuracy: 0.9286 - val_loss: 0.3066 - val_accuracy: 0.8699\n",
            "Epoch 7/10\n",
            "392/392 [==============================] - 23s 58ms/step - loss: 0.2226 - accuracy: 0.9005 - val_loss: 0.2438 - val_accuracy: 0.8954\n",
            "Epoch 8/10\n",
            "392/392 [==============================] - 22s 56ms/step - loss: 0.2002 - accuracy: 0.9260 - val_loss: 0.3190 - val_accuracy: 0.9031\n",
            "Epoch 9/10\n",
            "392/392 [==============================] - 26s 66ms/step - loss: 0.1547 - accuracy: 0.9592 - val_loss: 0.2787 - val_accuracy: 0.8980\n",
            "Epoch 10/10\n",
            "392/392 [==============================] - 22s 56ms/step - loss: 0.1665 - accuracy: 0.9260 - val_loss: 0.3007 - val_accuracy: 0.8954\n"
          ]
        },
        {
          "output_type": "execute_result",
          "data": {
            "text/plain": [
              "<keras.callbacks.History at 0x7f9369a36880>"
            ]
          },
          "metadata": {},
          "execution_count": 43
        }
      ]
    },
    {
      "cell_type": "code",
      "source": [
        "from keras.utils import load_img,img_to_array"
      ],
      "metadata": {
        "id": "N2tU6gvkoZ1v"
      },
      "execution_count": null,
      "outputs": []
    },
    {
      "cell_type": "markdown",
      "source": [
        "with the help of class indices we can see that covid is 0 and non covid is 1"
      ],
      "metadata": {
        "id": "gcm_x3eyJh2X"
      }
    },
    {
      "cell_type": "code",
      "source": [
        "train_set.class_indices"
      ],
      "metadata": {
        "id": "NeCrUYx-i_zd",
        "colab": {
          "base_uri": "https://localhost:8080/"
        },
        "outputId": "297c86ad-3fce-4466-cc7c-405bb8120d16"
      },
      "execution_count": null,
      "outputs": [
        {
          "output_type": "execute_result",
          "data": {
            "text/plain": [
              "{'Covid': 0, 'Non_Covid': 1}"
            ]
          },
          "metadata": {},
          "execution_count": 54
        }
      ]
    },
    {
      "cell_type": "markdown",
      "source": [
        "So here we are going to test out model by provinding the folder with mix xray we going to loop each file name and check the report and see total number of covid and non_covid x_ray present in the file with the list of those file\n",
        " "
      ],
      "metadata": {
        "id": "IoRoYqbHJsu6"
      }
    },
    {
      "cell_type": "code",
      "source": [
        "total_covid = 0\n",
        "total_non_covid=0\n",
        "covid_file=[]\n",
        "non_covid_file=[]\n",
        "import os\n",
        "# assign directory\n",
        "directory = '/content/drive/MyDrive/Corona_CNN_Project/val'\n",
        " \n",
        "# iterate over files in\n",
        "# that directory\n",
        "for filename in os.listdir(directory):\n",
        "    f = os.path.join(directory, filename)\n",
        "    # checking if it is a file\n",
        "    if os.path.isfile(f):\n",
        "        img = load_img(f,target_size=(64,64))\n",
        "        x = img_to_array(img)\n",
        "        x = x.reshape((1,)+x.shape)\n",
        "        result = ann.predict(x)\n",
        "        if result[0][0] == 0:\n",
        "          total_covid +=1\n",
        "          name_file=f.split('/')\n",
        "          covid_file.append(name_file[-1])\n",
        "        else:\n",
        "          total_non_covid +=1\n",
        "          name_file=f.split('/')\n",
        "          non_covid_file.append(name_file[-1])\n"
      ],
      "metadata": {
        "id": "aauyuBdRPRIT",
        "colab": {
          "base_uri": "https://localhost:8080/"
        },
        "outputId": "aa7d324c-853c-451a-80bc-bd8e1563b502"
      },
      "execution_count": 73,
      "outputs": [
        {
          "output_type": "stream",
          "name": "stdout",
          "text": [
            "1/1 [==============================] - 0s 19ms/step\n",
            "1/1 [==============================] - 0s 17ms/step\n",
            "1/1 [==============================] - 0s 17ms/step\n",
            "1/1 [==============================] - 0s 17ms/step\n",
            "1/1 [==============================] - 0s 20ms/step\n",
            "1/1 [==============================] - 0s 20ms/step\n",
            "1/1 [==============================] - 0s 21ms/step\n",
            "1/1 [==============================] - 0s 16ms/step\n",
            "1/1 [==============================] - 0s 16ms/step\n",
            "1/1 [==============================] - 0s 16ms/step\n",
            "1/1 [==============================] - 0s 17ms/step\n",
            "1/1 [==============================] - 0s 25ms/step\n",
            "1/1 [==============================] - 0s 16ms/step\n",
            "1/1 [==============================] - 0s 21ms/step\n",
            "1/1 [==============================] - 0s 23ms/step\n",
            "1/1 [==============================] - 0s 17ms/step\n",
            "1/1 [==============================] - 0s 17ms/step\n"
          ]
        }
      ]
    },
    {
      "cell_type": "code",
      "source": [
        "result[0][0]\n",
        "f"
      ],
      "metadata": {
        "colab": {
          "base_uri": "https://localhost:8080/",
          "height": 35
        },
        "id": "rkqekCalDpGm",
        "outputId": "403beb41-e821-41b7-9df0-f1ee9479b81c"
      },
      "execution_count": null,
      "outputs": [
        {
          "output_type": "execute_result",
          "data": {
            "text/plain": [
              "'/content/drive/MyDrive/Corona_CNN_Project/val/person1954_bacteria_3.jpg'"
            ],
            "application/vnd.google.colaboratory.intrinsic+json": {
              "type": "string"
            }
          },
          "metadata": {},
          "execution_count": 72
        }
      ]
    },
    {
      "cell_type": "code",
      "source": [
        "train_set.class_indices"
      ],
      "metadata": {
        "colab": {
          "base_uri": "https://localhost:8080/"
        },
        "id": "XD8nCALVEShl",
        "outputId": "f73b6630-855c-4268-ad32-09f957a6ac1d"
      },
      "execution_count": null,
      "outputs": [
        {
          "output_type": "execute_result",
          "data": {
            "text/plain": [
              "{'Covid': 0, 'Non_Covid': 1}"
            ]
          },
          "metadata": {},
          "execution_count": 71
        }
      ]
    },
    {
      "cell_type": "code",
      "source": [
        "total_covid"
      ],
      "metadata": {
        "id": "p56O6EXaFgbH",
        "colab": {
          "base_uri": "https://localhost:8080/"
        },
        "outputId": "62ffa7d5-a4b9-468d-da3d-034f6f99e9a3"
      },
      "execution_count": 74,
      "outputs": [
        {
          "output_type": "execute_result",
          "data": {
            "text/plain": [
              "5"
            ]
          },
          "metadata": {},
          "execution_count": 74
        }
      ]
    },
    {
      "cell_type": "code",
      "source": [
        "total_non_covid"
      ],
      "metadata": {
        "colab": {
          "base_uri": "https://localhost:8080/"
        },
        "id": "M7QCnyDKHb4e",
        "outputId": "28b86b09-1a53-42de-bb1a-2c76a2e18656"
      },
      "execution_count": 75,
      "outputs": [
        {
          "output_type": "execute_result",
          "data": {
            "text/plain": [
              "12"
            ]
          },
          "metadata": {},
          "execution_count": 75
        }
      ]
    },
    {
      "cell_type": "code",
      "source": [
        "covid_file"
      ],
      "metadata": {
        "colab": {
          "base_uri": "https://localhost:8080/"
        },
        "id": "szKk0acyHew3",
        "outputId": "55e1eddf-d1a0-478c-94df-c30ecc5e74e8"
      },
      "execution_count": 76,
      "outputs": [
        {
          "output_type": "execute_result",
          "data": {
            "text/plain": [
              "['person1954_bacteria_3.jpg',\n",
              " 'person1954_bacteria_5.png',\n",
              " 'person1954_bacteria_4.jpg',\n",
              " 'person1954_bacteria_2.png',\n",
              " 'person1954_bacteria_1.png']"
            ]
          },
          "metadata": {},
          "execution_count": 76
        }
      ]
    },
    {
      "cell_type": "code",
      "source": [
        "non_covid_file"
      ],
      "metadata": {
        "colab": {
          "base_uri": "https://localhost:8080/"
        },
        "id": "YvEUoZ0kHsfQ",
        "outputId": "2511d8c3-c41b-4d06-9422-466ddee5f34f"
      },
      "execution_count": 77,
      "outputs": [
        {
          "output_type": "execute_result",
          "data": {
            "text/plain": [
              "['person1951_bacteria_4882.jpeg',\n",
              " 'NORMAL2-IM-1438-0001.jpeg',\n",
              " 'NORMAL2-IM-1427-0001.jpeg',\n",
              " 'person1946_bacteria_4875.jpeg',\n",
              " 'NORMAL2-IM-1436-0001.jpeg',\n",
              " 'NORMAL2-IM-1430-0001.jpeg',\n",
              " 'NORMAL2-IM-1431-0001.jpeg',\n",
              " 'NORMAL2-IM-1440-0001.jpeg',\n",
              " 'person1952_bacteria_4883.jpeg',\n",
              " 'person1946_bacteria_4874.jpeg',\n",
              " 'NORMAL2-IM-1442-0001.jpeg',\n",
              " 'NORMAL2-IM-1437-0001.jpeg']"
            ]
          },
          "metadata": {},
          "execution_count": 77
        }
      ]
    },
    {
      "cell_type": "code",
      "source": [],
      "metadata": {
        "id": "qqr_Rxl9H1lF"
      },
      "execution_count": null,
      "outputs": []
    }
  ]
}